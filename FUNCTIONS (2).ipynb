{
  "nbformat": 4,
  "nbformat_minor": 0,
  "metadata": {
    "colab": {
      "name": "FUNCTIONS.ipynb",
      "provenance": [],
      "collapsed_sections": []
    },
    "kernelspec": {
      "name": "python3",
      "display_name": "Python 3"
    },
    "language_info": {
      "name": "python"
    }
  },
  "cells": [
    {
      "cell_type": "code",
      "metadata": {
        "colab": {
          "base_uri": "https://localhost:8080/"
        },
        "id": "93S4dUXqwnyp",
        "outputId": "4444bf34-12a6-498e-c92a-483d3827a371"
      },
      "source": [
        "def Hello(name):\n",
        "  print(\"Hello, \"+ name + \" Good Morning!\")\n",
        "Hello('Aayush')"
      ],
      "execution_count": 3,
      "outputs": [
        {
          "output_type": "stream",
          "name": "stdout",
          "text": [
            "Hello, Aayush Good Morning!\n"
          ]
        }
      ]
    },
    {
      "cell_type": "code",
      "metadata": {
        "id": "l0XO-Z8jy4FR"
      },
      "source": [
        "def absolute(num):\n",
        "  if num>=0:\n",
        "    return num\n",
        "  else:\n",
        "    return -num\n",
        "  print(absolute(2))\n",
        "  print(absolute(-3))"
      ],
      "execution_count": 10,
      "outputs": []
    },
    {
      "cell_type": "code",
      "metadata": {
        "colab": {
          "base_uri": "https://localhost:8080/"
        },
        "id": "tJmBTY8yy-3Q",
        "outputId": "5ea7b451-0992-4bd5-c44c-355fcc933785"
      },
      "source": [
        "def my_func():\n",
        "  x=10\n",
        "  print(\"Value inside function: \",x)\n",
        "x= 20\n",
        "my_func()\n",
        "print(\"Value outside function: \",x)"
      ],
      "execution_count": 11,
      "outputs": [
        {
          "output_type": "stream",
          "name": "stdout",
          "text": [
            "Value inside function:  10\n",
            "Value outside function:  20\n"
          ]
        }
      ]
    },
    {
      "cell_type": "code",
      "metadata": {
        "colab": {
          "base_uri": "https://localhost:8080/"
        },
        "id": "JCwW7J1rzmf1",
        "outputId": "1e74f3bc-0feb-4448-dbeb-1994aa58fd46"
      },
      "source": [
        "def greet(name, msg=\"Good morning!\"): #Default Argument\n",
        "    print(\"Hello\", name + ', ' + msg)\n",
        "greet(\"Aayush\")\n",
        "greet(\"Aayush\", \"How do you do?\")"
      ],
      "execution_count": 15,
      "outputs": [
        {
          "output_type": "stream",
          "name": "stdout",
          "text": [
            "Hello Aayush, Good morning!\n",
            "Hello Aayush, How do you do?\n"
          ]
        }
      ]
    },
    {
      "cell_type": "code",
      "metadata": {
        "colab": {
          "base_uri": "https://localhost:8080/"
        },
        "id": "xApu62Sw2a50",
        "outputId": "058fc316-c321-461f-83b8-106da440eb0a"
      },
      "source": [
        "def greet(*names):\n",
        "    for name in names:\n",
        "        print(\"Hello\", name)\n",
        "greet(\"Monica\", \"Luke\", \"Steve\", \"John\")"
      ],
      "execution_count": 16,
      "outputs": [
        {
          "output_type": "stream",
          "name": "stdout",
          "text": [
            "Hello Monica\n",
            "Hello Luke\n",
            "Hello Steve\n",
            "Hello John\n"
          ]
        }
      ]
    },
    {
      "cell_type": "code",
      "metadata": {
        "colab": {
          "base_uri": "https://localhost:8080/"
        },
        "id": "iYDbBRhX2qv2",
        "outputId": "33ad44b7-f710-411c-f2ea-9020a41d10f0"
      },
      "source": [
        "def fact(x):  #recursion function\n",
        "  if x==1:\n",
        "    return 1\n",
        "  else:\n",
        "    return x* fact(x-1)\n",
        "n=5\n",
        "print(\"Factorial of the number = \",fact(n))"
      ],
      "execution_count": 18,
      "outputs": [
        {
          "output_type": "stream",
          "name": "stdout",
          "text": [
            "Factorial of the number =  120\n"
          ]
        }
      ]
    },
    {
      "cell_type": "code",
      "metadata": {
        "colab": {
          "base_uri": "https://localhost:8080/"
        },
        "id": "J2AVi3Tb3Eu0",
        "outputId": "dc2fd32f-5370-43a2-8da2-3c49305197e2"
      },
      "source": [
        "def tower_of_hanoi(disks, source, auxiliary, target):  \n",
        "    if(disks == 1):  \n",
        "        print('Move disk 1 from rod {} to rod {}.'.format(source, target))  \n",
        "        return  \n",
        "    tower_of_hanoi(disks - 1, source, target, auxiliary)  \n",
        "    print('Move disk {} from rod {} to rod {}.'.format(disks, source, target))  \n",
        "    tower_of_hanoi(disks - 1, auxiliary, source, target)  \n",
        "disks = int(input('Enter the number of disks: '))  \n",
        "tower_of_hanoi(disks, 'A', 'B', 'C') "
      ],
      "execution_count": 19,
      "outputs": [
        {
          "output_type": "stream",
          "name": "stdout",
          "text": [
            "Enter the number of disks: 4\n",
            "Move disk 1 from rod A to rod B.\n",
            "Move disk 2 from rod A to rod C.\n",
            "Move disk 1 from rod B to rod C.\n",
            "Move disk 3 from rod A to rod B.\n",
            "Move disk 1 from rod C to rod A.\n",
            "Move disk 2 from rod C to rod B.\n",
            "Move disk 1 from rod A to rod B.\n",
            "Move disk 4 from rod A to rod C.\n",
            "Move disk 1 from rod B to rod C.\n",
            "Move disk 2 from rod B to rod A.\n",
            "Move disk 1 from rod C to rod A.\n",
            "Move disk 3 from rod B to rod C.\n",
            "Move disk 1 from rod A to rod B.\n",
            "Move disk 2 from rod A to rod C.\n",
            "Move disk 1 from rod B to rod C.\n"
          ]
        }
      ]
    },
    {
      "cell_type": "code",
      "metadata": {
        "colab": {
          "base_uri": "https://localhost:8080/"
        },
        "id": "Pm01xety3UiU",
        "outputId": "f502373c-5ce0-479c-cf02-4b1f6820eea7"
      },
      "source": [
        "x = \"global\"\n",
        "def fun():\n",
        "    print(\"x inside:\", x)\n",
        "fun()\n",
        "print(\"x outside:\", x)"
      ],
      "execution_count": 20,
      "outputs": [
        {
          "output_type": "stream",
          "name": "stdout",
          "text": [
            "x inside: global\n",
            "x outside: global\n"
          ]
        }
      ]
    },
    {
      "cell_type": "code",
      "metadata": {
        "colab": {
          "base_uri": "https://localhost:8080/",
          "height": 195
        },
        "id": "wNB1smKX3fJg",
        "outputId": "f22e1e1e-f963-4c17-e799-69bde4868ca4"
      },
      "source": [
        "def foo():\n",
        "    y = \"local\"\n",
        "foo()\n",
        "print(y) "
      ],
      "execution_count": 21,
      "outputs": [
        {
          "output_type": "error",
          "ename": "NameError",
          "evalue": "ignored",
          "traceback": [
            "\u001b[0;31m---------------------------------------------------------------------------\u001b[0m",
            "\u001b[0;31mNameError\u001b[0m                                 Traceback (most recent call last)",
            "\u001b[0;32m<ipython-input-21-24968e1b2c96>\u001b[0m in \u001b[0;36m<module>\u001b[0;34m()\u001b[0m\n\u001b[1;32m      2\u001b[0m     \u001b[0my\u001b[0m \u001b[0;34m=\u001b[0m \u001b[0;34m\"local\"\u001b[0m\u001b[0;34m\u001b[0m\u001b[0;34m\u001b[0m\u001b[0m\n\u001b[1;32m      3\u001b[0m \u001b[0mfoo\u001b[0m\u001b[0;34m(\u001b[0m\u001b[0;34m)\u001b[0m\u001b[0;34m\u001b[0m\u001b[0;34m\u001b[0m\u001b[0m\n\u001b[0;32m----> 4\u001b[0;31m \u001b[0mprint\u001b[0m\u001b[0;34m(\u001b[0m\u001b[0my\u001b[0m\u001b[0;34m)\u001b[0m\u001b[0;34m\u001b[0m\u001b[0;34m\u001b[0m\u001b[0m\n\u001b[0m",
            "\u001b[0;31mNameError\u001b[0m: name 'y' is not defined"
          ]
        }
      ]
    },
    {
      "cell_type": "markdown",
      "metadata": {
        "id": "_LWu3DZi3iXy"
      },
      "source": [
        "error because we are trying to access the local variable as global"
      ]
    },
    {
      "cell_type": "code",
      "metadata": {
        "colab": {
          "base_uri": "https://localhost:8080/"
        },
        "id": "sGM1bxdi3uDK",
        "outputId": "0c6c6003-e33e-457c-dcf5-038776fdf7f7"
      },
      "source": [
        "x = 5\n",
        "def foo():\n",
        "    x = 10\n",
        "    print(\"local x:\", x)\n",
        "foo()\n",
        "print(\"global x:\", x)\n"
      ],
      "execution_count": 22,
      "outputs": [
        {
          "output_type": "stream",
          "name": "stdout",
          "text": [
            "local x: 10\n",
            "global x: 5\n"
          ]
        }
      ]
    },
    {
      "cell_type": "code",
      "metadata": {
        "colab": {
          "base_uri": "https://localhost:8080/"
        },
        "id": "0IqRQvzx3-dp",
        "outputId": "dd4aecd0-964f-4cc4-eaa2-8f4b2da3a310"
      },
      "source": [
        "def outer():\n",
        "    x = \"local\"\n",
        "    def inner():\n",
        "        nonlocal x\n",
        "        x = \"nonlocal\"\n",
        "        print(\"inner:\", x)\n",
        "    inner()\n",
        "    print(\"outer:\", x)\n",
        "outer()\n"
      ],
      "execution_count": 23,
      "outputs": [
        {
          "output_type": "stream",
          "name": "stdout",
          "text": [
            "inner: nonlocal\n",
            "outer: nonlocal\n"
          ]
        }
      ]
    }
  ]
}