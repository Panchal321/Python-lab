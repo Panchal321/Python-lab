{
  "nbformat": 4,
  "nbformat_minor": 0,
  "metadata": {
    "colab": {
      "name": "INPUT/OUTPUT.ipynb",
      "provenance": []
    },
    "kernelspec": {
      "name": "python3",
      "display_name": "Python 3"
    },
    "language_info": {
      "name": "python"
    }
  },
  "cells": [
    {
      "cell_type": "code",
      "metadata": {
        "colab": {
          "base_uri": "https://localhost:8080/",
          "height": 52
        },
        "id": "n9Kpc91sDpk8",
        "outputId": "6459241b-6c38-40db-dc9d-2d3a23721d2c"
      },
      "source": [
        "s= input()\n",
        "s"
      ],
      "execution_count": 1,
      "outputs": [
        {
          "name": "stdout",
          "output_type": "stream",
          "text": [
            "hello\n"
          ]
        },
        {
          "output_type": "execute_result",
          "data": {
            "application/vnd.google.colaboratory.intrinsic+json": {
              "type": "string"
            },
            "text/plain": [
              "'hello'"
            ]
          },
          "metadata": {},
          "execution_count": 1
        }
      ]
    },
    {
      "cell_type": "code",
      "metadata": {
        "colab": {
          "base_uri": "https://localhost:8080/"
        },
        "id": "pVR0MorlD4NT",
        "outputId": "60173ea6-cd1b-42cb-ab2b-273e2fb713f4"
      },
      "source": [
        "name = input(\"Enter your name : \")\n",
        "print (\"Hello\",name)"
      ],
      "execution_count": 2,
      "outputs": [
        {
          "output_type": "stream",
          "name": "stdout",
          "text": [
            "Enter your name : Aayush Panchal\n",
            "Hello Aayush Panchal\n"
          ]
        }
      ]
    },
    {
      "cell_type": "code",
      "metadata": {
        "colab": {
          "base_uri": "https://localhost:8080/"
        },
        "id": "qwo6t-inEFXz",
        "outputId": "ef9afb01-e37a-41d5-c48f-6b38e7046680"
      },
      "source": [
        "n =input(\"Enter a number: \")\n",
        "type(n)"
      ],
      "execution_count": 3,
      "outputs": [
        {
          "name": "stdout",
          "output_type": "stream",
          "text": [
            "Enter a number: 23.1\n"
          ]
        },
        {
          "output_type": "execute_result",
          "data": {
            "text/plain": [
              "str"
            ]
          },
          "metadata": {},
          "execution_count": 3
        }
      ]
    },
    {
      "cell_type": "code",
      "metadata": {
        "colab": {
          "base_uri": "https://localhost:8080/"
        },
        "id": "Rdp3PT97EWjf",
        "outputId": "5b993c0a-5cdc-446c-df06-a8d60e35ebd4"
      },
      "source": [
        "n = int(input(\"Enter a number: \"))\n",
        "print(n+150)\n"
      ],
      "execution_count": 4,
      "outputs": [
        {
          "output_type": "stream",
          "name": "stdout",
          "text": [
            "Enter a number: 100\n",
            "250\n"
          ]
        }
      ]
    },
    {
      "cell_type": "code",
      "metadata": {
        "colab": {
          "base_uri": "https://localhost:8080/"
        },
        "id": "s78boGSIEhOg",
        "outputId": "60f3e00c-05f4-4aa8-ab03-753177e387fc"
      },
      "source": [
        "fname = \"Aayush\"\n",
        "lname = \"Panchal\"\n",
        "print(\"Name: \",fname,lname)"
      ],
      "execution_count": 5,
      "outputs": [
        {
          "output_type": "stream",
          "name": "stdout",
          "text": [
            "Name:  Aayush Panchal\n"
          ]
        }
      ]
    },
    {
      "cell_type": "code",
      "metadata": {
        "colab": {
          "base_uri": "https://localhost:8080/"
        },
        "id": "_V5ed80sEzLP",
        "outputId": "1a635a4a-b00b-4582-9c62-4d18860c06b3"
      },
      "source": [
        "print('AayushPanchal','ci',23,sep='...')"
      ],
      "execution_count": 7,
      "outputs": [
        {
          "output_type": "stream",
          "name": "stdout",
          "text": [
            "AayushPanchal...ci...23\n"
          ]
        }
      ]
    },
    {
      "cell_type": "code",
      "metadata": {
        "colab": {
          "base_uri": "https://localhost:8080/"
        },
        "id": "3UPIPNZrFWdh",
        "outputId": "be5be51b-2d51-46b3-886a-61c59c5f823b"
      },
      "source": [
        "print('Aayush', end='/')\n",
        "print('CI', end='/')\n",
        "print(1)"
      ],
      "execution_count": 11,
      "outputs": [
        {
          "output_type": "stream",
          "name": "stdout",
          "text": [
            "Aayush/CI/1\n"
          ]
        }
      ]
    },
    {
      "cell_type": "code",
      "metadata": {
        "colab": {
          "base_uri": "https://localhost:8080/"
        },
        "id": "uLRnRuj5F3JA",
        "outputId": "ca8374e1-6132-4304-9449-25186ff6698d"
      },
      "source": [
        "for n in range (10):\n",
        "  print(n)"
      ],
      "execution_count": 12,
      "outputs": [
        {
          "output_type": "stream",
          "name": "stdout",
          "text": [
            "0\n",
            "1\n",
            "2\n",
            "3\n",
            "4\n",
            "5\n",
            "6\n",
            "7\n",
            "8\n",
            "9\n"
          ]
        }
      ]
    },
    {
      "cell_type": "code",
      "metadata": {
        "colab": {
          "base_uri": "https://localhost:8080/"
        },
        "id": "_phabJquF-y7",
        "outputId": "976b89f6-bbac-4bbf-9ff6-708d31d2709c"
      },
      "source": [
        "for n in range (10):\n",
        "  print(n,end=' ')"
      ],
      "execution_count": 13,
      "outputs": [
        {
          "output_type": "stream",
          "name": "stdout",
          "text": [
            "0 1 2 3 4 5 6 7 8 9 "
          ]
        }
      ]
    },
    {
      "cell_type": "code",
      "metadata": {
        "colab": {
          "base_uri": "https://localhost:8080/"
        },
        "id": "6uCGIBjBGRmg",
        "outputId": "6320ff75-ca74-4976-c68a-5866bf0ba791"
      },
      "source": [
        "print(\"Hello, my name is %s\"%'Aayush')"
      ],
      "execution_count": 14,
      "outputs": [
        {
          "output_type": "stream",
          "name": "stdout",
          "text": [
            "Hello, my name is Aayush\n"
          ]
        }
      ]
    },
    {
      "cell_type": "code",
      "metadata": {
        "colab": {
          "base_uri": "https://localhost:8080/"
        },
        "id": "pPqohlXxGlsH",
        "outputId": "a59a09ed-0a99-4267-e65c-a3c3c8917005"
      },
      "source": [
        "a= \"apples#mango#banana#orange\"\n",
        "a.split(\"#\",1)"
      ],
      "execution_count": 15,
      "outputs": [
        {
          "output_type": "execute_result",
          "data": {
            "text/plain": [
              "['apples', 'mango#banana#orange']"
            ]
          },
          "metadata": {},
          "execution_count": 15
        }
      ]
    }
  ]
}