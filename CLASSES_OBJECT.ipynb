{
  "nbformat": 4,
  "nbformat_minor": 0,
  "metadata": {
    "colab": {
      "name": "CLASSES_OBJECT.ipynb",
      "provenance": []
    },
    "kernelspec": {
      "name": "python3",
      "display_name": "Python 3"
    },
    "language_info": {
      "name": "python"
    }
  },
  "cells": [
    {
      "cell_type": "code",
      "metadata": {
        "colab": {
          "base_uri": "https://localhost:8080/"
        },
        "id": "5XALESC951-1",
        "outputId": "d6271adb-926c-44ec-dca7-79e22a9f703a"
      },
      "source": [
        "class myclass:\n",
        "  x =5\n",
        "p=myclass()\n",
        "print(p.x)"
      ],
      "execution_count": 1,
      "outputs": [
        {
          "output_type": "stream",
          "name": "stdout",
          "text": [
            "5\n"
          ]
        }
      ]
    },
    {
      "cell_type": "code",
      "metadata": {
        "colab": {
          "base_uri": "https://localhost:8080/"
        },
        "id": "hO7XhzvR6S2q",
        "outputId": "f5b6f75f-7491-4848-c655-6bdbe2c0e5b9"
      },
      "source": [
        "class Person:\n",
        "  def __init__(self, name, age):\n",
        "    self.name = name\n",
        "    self.age = age\n",
        "p1 = Person(\"Aayush\", 20)\n",
        "print(p1.name)\n",
        "print(p1.age)"
      ],
      "execution_count": 5,
      "outputs": [
        {
          "output_type": "stream",
          "name": "stdout",
          "text": [
            "Aayush\n",
            "20\n"
          ]
        }
      ]
    },
    {
      "cell_type": "code",
      "metadata": {
        "colab": {
          "base_uri": "https://localhost:8080/"
        },
        "id": "YdXr9pwR6eqx",
        "outputId": "09778780-0312-4d0a-ad91-06fa6d9706ea"
      },
      "source": [
        "class Person:\n",
        "  def __init__(self,name,age):\n",
        "    self.name = name\n",
        "    self.age = age\n",
        "  def func(self):\n",
        "    print(\"Hello my name is \"+self.name)\n",
        "p=Person(\"Aayush\",20)\n",
        "p.func()"
      ],
      "execution_count": 7,
      "outputs": [
        {
          "output_type": "stream",
          "name": "stdout",
          "text": [
            "Hello my name is Aayush\n"
          ]
        }
      ]
    },
    {
      "cell_type": "code",
      "metadata": {
        "colab": {
          "base_uri": "https://localhost:8080/"
        },
        "id": "h22roljB6wti",
        "outputId": "bd4a6976-d009-477b-a23a-5e9ed05b23e7"
      },
      "source": [
        "class Person:\n",
        "  def __init__(myobject, name, age):\n",
        "    myobject.name = name\n",
        "    myobject.age = age\n",
        "  def myfunc(abc):\n",
        "    print(\"Hello my name is \" + abc.name)\n",
        "p1 = Person(\"David\", 36)\n",
        "p1.myfunc()"
      ],
      "execution_count": 8,
      "outputs": [
        {
          "output_type": "stream",
          "name": "stdout",
          "text": [
            "Hello my name is David\n"
          ]
        }
      ]
    }
  ]
}