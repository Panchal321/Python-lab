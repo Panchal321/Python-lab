{
  "nbformat": 4,
  "nbformat_minor": 0,
  "metadata": {
    "colab": {
      "name": "LAMBDA.ipynb",
      "provenance": []
    },
    "kernelspec": {
      "name": "python3",
      "display_name": "Python 3"
    },
    "language_info": {
      "name": "python"
    }
  },
  "cells": [
    {
      "cell_type": "code",
      "metadata": {
        "colab": {
          "base_uri": "https://localhost:8080/"
        },
        "id": "7Zk51gXj7KoU",
        "outputId": "5a889aed-e6af-4207-afbd-7a69212ce233"
      },
      "source": [
        "table = [lambda x=x: 2*x for x in range(1,11)]\n",
        "\n",
        "for i in table:\n",
        "  print(i())\n"
      ],
      "execution_count": 1,
      "outputs": [
        {
          "output_type": "stream",
          "name": "stdout",
          "text": [
            "2\n",
            "4\n",
            "6\n",
            "8\n",
            "10\n",
            "12\n",
            "14\n",
            "16\n",
            "18\n",
            "20\n"
          ]
        }
      ]
    },
    {
      "cell_type": "code",
      "metadata": {
        "colab": {
          "base_uri": "https://localhost:8080/"
        },
        "id": "y4jY7uzB7S7s",
        "outputId": "5e5eb817-a5e8-4b46-d66b-a4d327d5c1f2"
      },
      "source": [
        "list1=[1,2,3,4,5]\n",
        "double =[lambda x = x :  x*x     for x in list1]\n",
        "for i in double:\n",
        "  print(i())"
      ],
      "execution_count": 2,
      "outputs": [
        {
          "output_type": "stream",
          "name": "stdout",
          "text": [
            "1\n",
            "4\n",
            "9\n",
            "16\n",
            "25\n"
          ]
        }
      ]
    },
    {
      "cell_type": "code",
      "metadata": {
        "colab": {
          "base_uri": "https://localhost:8080/"
        },
        "id": "nU8BBivp7c2T",
        "outputId": "49d14f7f-d209-4df7-b90f-2c7ba8c3ed95"
      },
      "source": [
        "from functools import reduce\n",
        "li =[5,6,7,8,9,10,11]\n",
        "sum = reduce(lambda x,y:x+y,li)\n",
        "sum"
      ],
      "execution_count": 3,
      "outputs": [
        {
          "output_type": "execute_result",
          "data": {
            "text/plain": [
              "56"
            ]
          },
          "metadata": {},
          "execution_count": 3
        }
      ]
    },
    {
      "cell_type": "code",
      "metadata": {
        "colab": {
          "base_uri": "https://localhost:8080/"
        },
        "id": "PkaaLFl87jDf",
        "outputId": "8c1692a6-b66a-42fe-9c61-20e57de58519"
      },
      "source": [
        "from functools import reduce\n",
        "li =[5,6,7,8,9,10,11]\n",
        "max = reduce(lambda x,y:x if x>y else y,li)\n",
        "max"
      ],
      "execution_count": 4,
      "outputs": [
        {
          "output_type": "execute_result",
          "data": {
            "text/plain": [
              "11"
            ]
          },
          "metadata": {},
          "execution_count": 4
        }
      ]
    },
    {
      "cell_type": "code",
      "metadata": {
        "colab": {
          "base_uri": "https://localhost:8080/"
        },
        "id": "J5SV_qSn7rFM",
        "outputId": "698c2241-fdb1-4a65-b514-bf810627660b"
      },
      "source": [
        "str1 = ['dog','cat']\n",
        "list(map(lambda x: x.upper(),str1))"
      ],
      "execution_count": 5,
      "outputs": [
        {
          "output_type": "execute_result",
          "data": {
            "text/plain": [
              "['DOG', 'CAT']"
            ]
          },
          "metadata": {},
          "execution_count": 5
        }
      ]
    }
  ]
}